{
 "cells": [
  {
   "cell_type": "markdown",
   "metadata": {},
   "source": [
    "## Webscraping com Python\n",
    "\n",
    "Tutorial de webscraping com pyhton utilizando a biblioteca BeautifulSoup\n",
    "\n",
    "### O que é webscraping?\n",
    "\n",
    "Webscraping é uma técnica de extração de dados, com ela podemos coletar dados de sites. Fazemos a 'raspagem' dos dados  que são interessantes para nós.\n",
    "\n",
    "Por exemplo: resgatar os últimos posts que foram escritos em vários blogs, assim sem precisarmos entrar nos sites alvo, podemos simplesmente iterar sobre eles e resgatar os dados, esta seria um exemplo simples da aplicação da técnica.\n",
    "\n",
    "Porém há muitas empresas que utilizam como forma de gerar recursos, um exemplo clássico é o site Buscapé, ele varre os sites que vendem os produtos pesquisados em busca dos menores preços.\n",
    "\n",
    "### Mais sobre o webscraping:\n",
    "\n",
    "Depois da extração dos dados, podemos armazenar eles de diversas formas:\n",
    "\n",
    "- Salvar em um banco de dados;\n",
    "- Salvar em CSV;\n",
    "- Salvar em XLS;\n",
    "- Entre outros;\n",
    "\n",
    "O processo em si é bem básico, definimos os dados que queremos, escolhemos os sites, montamos o script e recebemos os dados para análiser, este é o ciclo de vida do webscraping.\n",
    "\n",
    "Outro ponto legal é que se você souber um pouco de programação web vai se sentir muito confortável na exploração das tags, e na própria estrutura do html, isso já te deixa na frente.\n",
    "\n",
    "### Porque utilizar?\n",
    "\n",
    "Bom, vamos imaginar um caso: precisamos dos comentários de um produto X em 200 e-commerces diferentes para analisa-los e validar se o produto tem aceitação no mercado.\n",
    "\n",
    "Poderiamos entrar nos 200 sites copiar todos os comentários e salva-los numa planinha, por exemplo, mas e quantas horas gastariamos nisso? E se a pesquisa precisa ser repetida toda semana? Se faltou algum dado na primeira pesquisa?\n",
    "\n",
    "Teriamos que novamente nos submetermos a todo este processo manual, gastando horas para algo super simples!\n",
    "\n",
    "É aí que entra o webscraping, automatizamos todo o processo e só precisamos rodar o script até quando precisarmos, é muito mais vantajoso, e se feito de maneira correta se torna muito mais preciso também, a prova de erros humanos."
   ]
  }
 ],
 "metadata": {
  "kernelspec": {
   "display_name": "Python 3",
   "language": "python",
   "name": "python3"
  },
  "language_info": {
   "codemirror_mode": {
    "name": "ipython",
    "version": 3
   },
   "file_extension": ".py",
   "mimetype": "text/x-python",
   "name": "python",
   "nbconvert_exporter": "python",
   "pygments_lexer": "ipython3",
   "version": "3.6.4"
  }
 },
 "nbformat": 4,
 "nbformat_minor": 2
}
